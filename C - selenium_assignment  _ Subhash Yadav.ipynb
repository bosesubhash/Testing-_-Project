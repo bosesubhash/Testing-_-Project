{
 "cells": [
  {
   "cell_type": "code",
   "execution_count": 4,
   "metadata": {},
   "outputs": [
    {
     "name": "stdout",
     "output_type": "stream",
     "text": [
      "Element for 'Analogue' filter not found.\n",
      "Element for 'Leather' filter not found.\n",
      "Element for 'Titan' filter not found.\n",
      "Element for 'Discount' filter not found.\n",
      "Fifth element not found.\n"
     ]
    }
   ],
   "source": [
    "from selenium import webdriver\n",
    "from selenium.webdriver.chrome.options import Options\n",
    "from selenium.webdriver.common.keys import Keys\n",
    "from selenium.webdriver.common.by import By\n",
    "from selenium.common.exceptions import NoSuchElementException\n",
    "\n",
    "# Provide the full path to the Chrome driver executable\n",
    "driver_path = 'C:/path/to/chromedriver.exe'\n",
    "\n",
    "# Set Chrome driver options\n",
    "chrome_options = Options()\n",
    "chrome_options.add_argument(\"--webdriver.chrome.driver=\" + driver_path)\n",
    "\n",
    "# Create the WebDriver instance using the specified options\n",
    "driver = webdriver.Chrome(options=chrome_options)\n",
    "\n",
    "# Step 1: Go to \"https://amazon.in\"\n",
    "driver = webdriver.Chrome()\n",
    "driver.get(\"https://www.amazon.in\")\n",
    "\n",
    "# Step 2: Search for \"Wrist Watches\" with specific filters\n",
    "search_box = driver.find_element(By.ID, \"twotabsearchtextbox\")\n",
    "search_box.send_keys(\"Wrist Watches\")\n",
    "\n",
    "# Filter: Display - Analogue\n",
    "try:\n",
    "    display_analogue_checkbox = driver.find_element(By.XPATH, \"//span[contains(text(), 'Analogue')]/../preceding-sibling::input\")\n",
    "    display_analogue_checkbox.click()\n",
    "except NoSuchElementException:\n",
    "    print(\"Element for 'Analogue' filter not found.\")\n",
    "\n",
    "# Filter: Brands Material - Leather\n",
    "try:\n",
    "    brands_material_leather_checkbox = driver.find_element(By.XPATH, \"//span[contains(text(), 'Leather')]/../preceding-sibling::input\")\n",
    "    brands_material_leather_checkbox.click()\n",
    "except NoSuchElementException:\n",
    "    print(\"Element for 'Leather' filter not found.\")\n",
    "\n",
    "# Filter: Brand - Titan\n",
    "try:\n",
    "    brand_titan_checkbox = driver.find_element(By.XPATH, \"//span[contains(text(), 'Titan')]/../preceding-sibling::input\")\n",
    "    brand_titan_checkbox.click()\n",
    "except NoSuchElementException:\n",
    "    print(\"Element for 'Titan' filter not found.\")\n",
    "\n",
    "# Filter: Discount - \"25% Off or more\"\n",
    "try:\n",
    "    discount_checkbox = driver.find_element(By.XPATH, \"//span[contains(text(), '25% Off or more')]/../preceding-sibling::input\")\n",
    "    discount_checkbox.click()\n",
    "except NoSuchElementException:\n",
    "    print(\"Element for 'Discount' filter not found.\")\n",
    "\n",
    "search_box.send_keys(Keys.RETURN)\n",
    "\n",
    "# Step 3: Get the Fifth Element from the search\n",
    "try:\n",
    "    fifth_element = driver.find_element(By.XPATH, \"(//div[@class='sg-col-inner']//span[@class='a-size-medium a-color-base a-text-normal'])[5]\")\n",
    "    print(\"Fifth Element:\", fifth_element.text)\n",
    "except NoSuchElementException:\n",
    "    print(\"Fifth element not found.\")\n",
    "\n",
    "# Close the browser\n",
    "driver.quit()\n"
   ]
  }
 ],
 "metadata": {
  "kernelspec": {
   "display_name": "Python 3",
   "language": "python",
   "name": "python3"
  },
  "language_info": {
   "codemirror_mode": {
    "name": "ipython",
    "version": 3
   },
   "file_extension": ".py",
   "mimetype": "text/x-python",
   "name": "python",
   "nbconvert_exporter": "python",
   "pygments_lexer": "ipython3",
   "version": "3.8.3"
  }
 },
 "nbformat": 4,
 "nbformat_minor": 4
}
